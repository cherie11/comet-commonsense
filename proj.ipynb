{
 "cells": [
  {
   "cell_type": "code",
   "execution_count": 1,
   "metadata": {},
   "outputs": [],
   "source": [
    "import pickle\n",
    "import nltk\n",
    "import  pandas as pd\n",
    "from nltk.tokenize import word_tokenize\n",
    "import nltk\n",
    "import itertools\n",
    "from collections import Counter\n",
    "import matplotlib\n",
    "import matplotlib.pyplot as plt\n",
    "import plotly\n",
    "import plotly.graph_objects as go\n",
    "import chart_studio\n",
    "import chart_studio.plotly as py\n",
    "import plotly.io as pio; pio.renderers.default='notebook'\n",
    "import plotly.express as px\n",
    "\n",
    "# nltk.download('averaged_perceptron_tagger')\n",
    "\n",
    "import spacy\n",
    "\n",
    "nlp = spacy.load(\"en_core_web_sm\")\n",
    "\n",
    "\n",
    "\n"
   ]
  },
  {
   "cell_type": "code",
   "execution_count": null,
   "metadata": {},
   "outputs": [],
   "source": []
  },
  {
   "cell_type": "markdown",
   "metadata": {},
   "source": [
    "import sys\n",
    "!{sys.executable} -m pip install chart_studio"
   ]
  },
  {
   "cell_type": "code",
   "execution_count": 2,
   "metadata": {},
   "outputs": [
    {
     "ename": "FileNotFoundError",
     "evalue": "[Errno 2] No such file or directory: 'data/Persona-Chat/event/valid_dict.pkl'",
     "output_type": "error",
     "traceback": [
      "\u001b[0;31m---------------\u001b[0m",
      "\u001b[0;31mFileNotFoundError\u001b[0mTraceback (most recent call last)",
      "\u001b[0;32m<ipython-input-2-3775fc0aecc3>\u001b[0m in \u001b[0;36m<module>\u001b[0;34m\u001b[0m\n\u001b[1;32m      1\u001b[0m \u001b[0mset_mode\u001b[0m \u001b[0;34m=\u001b[0m \u001b[0;34m'valid'\u001b[0m\u001b[0;34m\u001b[0m\u001b[0;34m\u001b[0m\u001b[0m\n\u001b[0;32m----> 2\u001b[0;31m \u001b[0mdialogs\u001b[0m \u001b[0;34m=\u001b[0m \u001b[0mpickle\u001b[0m\u001b[0;34m.\u001b[0m\u001b[0mload\u001b[0m\u001b[0;34m(\u001b[0m \u001b[0mopen\u001b[0m\u001b[0;34m(\u001b[0m \u001b[0;34m\"data/Persona-Chat/event/\"\u001b[0m\u001b[0;34m+\u001b[0m \u001b[0mset_mode\u001b[0m\u001b[0;34m+\u001b[0m\u001b[0;34m\"_dict.pkl\"\u001b[0m\u001b[0;34m,\u001b[0m \u001b[0;34m\"rb\"\u001b[0m \u001b[0;34m)\u001b[0m \u001b[0;34m)\u001b[0m\u001b[0;34m\u001b[0m\u001b[0;34m\u001b[0m\u001b[0m\n\u001b[0m\u001b[1;32m      3\u001b[0m \u001b[0;34m\u001b[0m\u001b[0m\n\u001b[1;32m      4\u001b[0m \u001b[0mdf\u001b[0m \u001b[0;34m=\u001b[0m \u001b[0mpd\u001b[0m\u001b[0;34m.\u001b[0m\u001b[0mDataFrame\u001b[0m\u001b[0;34m.\u001b[0m\u001b[0mfrom_dict\u001b[0m\u001b[0;34m(\u001b[0m\u001b[0mdialogs\u001b[0m\u001b[0;34m)\u001b[0m\u001b[0;34m\u001b[0m\u001b[0;34m\u001b[0m\u001b[0m\n\u001b[1;32m      5\u001b[0m \u001b[0mdf_event\u001b[0m\u001b[0;34m=\u001b[0m\u001b[0mdf\u001b[0m\u001b[0;34m[\u001b[0m\u001b[0;34m[\u001b[0m\u001b[0;34m\"xEffect\"\u001b[0m\u001b[0;34m,\u001b[0m\u001b[0;34m\"xIntent\"\u001b[0m\u001b[0;34m,\u001b[0m\u001b[0;34m\"xNeed\"\u001b[0m\u001b[0;34m,\u001b[0m\u001b[0;34m\"xReact\"\u001b[0m\u001b[0;34m,\u001b[0m\u001b[0;34m\"xWant\"\u001b[0m\u001b[0;34m]\u001b[0m\u001b[0;34m]\u001b[0m\u001b[0;34m\u001b[0m\u001b[0;34m\u001b[0m\u001b[0m\n",
      "\u001b[0;31mFileNotFoundError\u001b[0m: [Errno 2] No such file or directory: 'data/Persona-Chat/event/valid_dict.pkl'"
     ]
    }
   ],
   "source": [
    "\n",
    "set_mode = 'valid'\n",
    "dialogs = pickle.load( open( \"data/Persona-Chat/event/\"+ set_mode+\"_dict.pkl\", \"rb\" ) )\n",
    "\n",
    "df = pd.DataFrame.from_dict(dialogs)\n",
    "df_event=df[[\"xEffect\",\"xIntent\",\"xNeed\",\"xReact\",\"xWant\"]]\n"
   ]
  },
  {
   "cell_type": "code",
   "execution_count": 87,
   "metadata": {},
   "outputs": [
    {
     "data": {
      "text/plain": [
       "count    23737.000000\n",
       "mean       483.400008\n",
       "std        279.257012\n",
       "min          0.000000\n",
       "25%        242.000000\n",
       "50%        484.000000\n",
       "75%        725.000000\n",
       "max        967.000000\n",
       "Name: dialog_id, dtype: float64"
      ]
     },
     "execution_count": 87,
     "metadata": {},
     "output_type": "execute_result"
    }
   ],
   "source": [
    "df['dialog_id'].describe()"
   ]
  },
  {
   "cell_type": "code",
   "execution_count": 19,
   "metadata": {},
   "outputs": [],
   "source": [
    "from tqdm import tqdm\n",
    "\n",
    "import sys\n",
    "from progress.bar import Bar\n",
    "\n",
    "\n",
    "def analyze(attr):\n",
    "    attr_list = list(df_event[attr].dropna())\n",
    "    merged =[]\n",
    "    cnt = 0\n",
    "    for a in attr_list:\n",
    "        if cnt % 2000 ==0:\n",
    "            print(str(cnt)+'/'+str(len(attr_list)))\n",
    "        for res in nlp(a):\n",
    "            merged.append((res.text, res.tag_))\n",
    "        cnt +=1\n",
    "    print('======'+attr+'=======')\n",
    "    print('total token',len(merged))\n",
    "    \n",
    "    nouns = list(filter(lambda x: x[1].startswith('N'), merged))\n",
    "\n",
    "    print('total noun',len(nouns),'ratio',len(nouns)*1.0/len(merged))\n",
    "\n",
    "    nouns = [x[0] for x in nouns]\n",
    "    words = Counter(nouns)\n",
    "    common = dict(words.most_common(10))\n",
    "    \n",
    "    matplotlib.rcParams.update({'font.size': 22})\n",
    "    print(len(words))\n",
    "    return words, common"
   ]
  },
  {
   "cell_type": "code",
   "execution_count": 16,
   "metadata": {},
   "outputs": [],
   "source": [
    "\n",
    "# def analyze(attr):\n",
    "#     attr_list = list(df_event[attr].dropna())\n",
    "#     merged =[]\n",
    "#     cnt = 0\n",
    "#     for a in attr_list:\n",
    "# #         if cnt % 10000 ==0:\n",
    "# #             print(str(cnt)+'/'+str(len(attr_list)))\n",
    "#         merged.extend(a.split())\n",
    "#         cnt +=1\n",
    "#     print('======'+attr+'=======')\n",
    "#     print('total token',len(merged))\n",
    "\n",
    "    \n",
    "#     words = Counter(merged)\n",
    "#     common = dict(words.most_common(10))\n",
    "    \n",
    "#     matplotlib.rcParams.update({'font.size': 22})\n",
    "#     print('vocab size',len(words))\n",
    "#     return words, common\n",
    "# for att in [\"xEffect\",\"xIntent\",\"xNeed\",\"xReact\",\"xWant\"]:\n",
    "#     analyze(att)"
   ]
  },
  {
   "cell_type": "markdown",
   "metadata": {},
   "source": [
    "```python\n",
    "Vocab statistic\n",
    "TRAIN\n",
    "======xEffect=======\n",
    "total token 398845\n",
    "vocab size 3386\n",
    "======xIntent=======\n",
    "total token 456535\n",
    "vocab size 2684\n",
    "======xNeed=======\n",
    "total token 568924\n",
    "vocab size 3808\n",
    "======xReact=======\n",
    "total token 132756\n",
    "vocab size 549\n",
    "======xWant=======\n",
    "total token 498083\n",
    "vocab size 2962\n",
    "\n",
    "VALID\n",
    "======xEffect=======\n",
    "total token 47880\n",
    "vocab size 1533\n",
    "======xIntent=======\n",
    "total token 54648\n",
    "vocab size 1189\n",
    "======xNeed=======\n",
    "total token 67553\n",
    "vocab size 1690\n",
    "======xReact=======\n",
    "total token 15735\n",
    "vocab size 244\n",
    "======xWant=======\n",
    "total token 59800\n",
    "vocab size 1275\n",
    "```"
   ]
  },
  {
   "cell_type": "markdown",
   "metadata": {},
   "source": [
    "# Cluster event"
   ]
  },
  {
   "cell_type": "code",
   "execution_count": 57,
   "metadata": {},
   "outputs": [],
   "source": [
    "import pandas as pd\n",
    "\n",
    "df = pd.read_csv('~/glove_dir/glove.6B.300d.txt', sep=\" \", quoting=3, header=None, index_col=0)\n",
    "glove = {key: val.values for key, val in df.T.items()}"
   ]
  },
  {
   "cell_type": "code",
   "execution_count": 5,
   "metadata": {},
   "outputs": [
    {
     "name": "stdout",
     "output_type": "stream",
     "text": [
      "train tsne\n",
      "cluster\n"
     ]
    }
   ],
   "source": [
    "import numpy as np\n",
    "def sum_vec(x):\n",
    "    res = np.zeros(300)\n",
    "    words= x.split()\n",
    "    for word in words:\n",
    "        if word in glove:\n",
    "            res+=glove[word]\n",
    "    return res\n",
    "    \n",
    "import nltk\n",
    "from sklearn.manifold import TSNE\n",
    "import matplotlib.pyplot as plt\n",
    "from sklearn.cluster import KMeans\n",
    "%matplotlib inline\n",
    "def cluster(n_clusters,xs):\n",
    "    kmeans = KMeans(n_clusters=n_clusters)\n",
    "    kmeans.fit(xs)\n",
    "    Z = kmeans.predict(xs)\n",
    "    return kmeans, Z\n",
    "def cluster_df(att,x=None,y=None):\n",
    "    \"Creates and TSNE model and plots it\"\n",
    "    if isinstance(att,list):\n",
    "        \n",
    "        res = df_event[att].dropna().agg(' '.join, axis=1).map(lambda x: sum_vec(x) ).tolist()\n",
    "        labels = df_event[att].dropna().agg('-'.join, axis=1).tolist()\n",
    "        tokens = res\n",
    "    else:\n",
    "        res = df_event[att].dropna().map(lambda x: sum_vec(x) )\n",
    "        res = res.tolist()\n",
    "        labels = df_event[att].dropna().tolist()\n",
    "        tokens = res\n",
    "    tsne_model = TSNE(perplexity=40, n_components=2, init='pca', n_iter=2500, random_state=23)\n",
    "    print('train tsne')\n",
    "    if x is None:\n",
    "        new_values = tsne_model.fit_transform(tokens)\n",
    "        x,y=zip(*new_values)\n",
    "    \n",
    "    print('cluster')\n",
    "    model,Z = cluster(8,res)\n",
    "    \n",
    "    df = pd.DataFrame(list(zip(x,y,Z,labels)), \n",
    "                   columns =['x', 'y','cluster','event']) \n",
    "    return df,(x,y)\n",
    "\n",
    "dfs= []\n",
    "# for att in [\"xEffect\",\"xIntent\",\"xNeed\",\"xReact\",\"xWant\"]:\n",
    "#     dfs.append(cluster_df(att))\n",
    "res,p=cluster_df([\"xEffect\",\"xIntent\",\"xNeed\",\"xReact\",\"xWant\"],p[0],p[1])\n",
    "dfs.append(res)\n",
    "\n",
    "atts= [\"xNeed\"]#\"xEffect\",\"xIntent\",\"xReact\",\"xWant\"]\n",
    "for i,df in enumerate(dfs):\n",
    "    fig = px.scatter(df, x=\"x\", y=\"y\", color=\"cluster\",\n",
    "             hover_data=['event'],title=atts[i])\n",
    "    plotly.offline.plot(fig, filename = atts[i]+'.html')\n",
    "# chart_studio.tools.set_credentials_file(username='cherie11', api_key='cz0kAdNA7UePDq0DJDCf')\n",
    "\n"
   ]
  },
  {
   "cell_type": "code",
   "execution_count": 75,
   "metadata": {},
   "outputs": [],
   "source": [
    "# import nltk\n",
    "# from sklearn.manifold import TSNE\n",
    "# import matplotlib.pyplot as plt\n",
    "# from sklearn.cluster import KMeans\n",
    "# %matplotlib inline\n",
    "# def cluster(n_clusters,xs):\n",
    "#     kmeans = KMeans(n_clusters=n_clusters)\n",
    "#     kmeans.fit(xs)\n",
    "#     return kmeans\n",
    "# att=\"xNeed\"#,\"xIntent\",\"xNeed\",\"xReact\",\"xWant\"]\n",
    "# res = df_event[att].dropna().map(lambda x: sum_vec(x) )\n",
    "# res = res.tolist()\n",
    "# labels = df_event[att].dropna().tolist()\n",
    "# model = cluster(25,res)\n",
    "\n",
    "def predict(att,df):\n",
    "    if df[att] is None:\n",
    "        return -1\n",
    "    vec = sum_vec(df[att]).reshape(1,-1)\n",
    "    pred = model.predict(vec)\n",
    "    return pred[0]\n",
    "df['cluster']= df.apply(lambda x :predict(att,x),axis =1)\n",
    "# df.to_csv(\"data/Persona-Chat/event/\"+ set_mode+\".csv\")"
   ]
  },
  {
   "cell_type": "code",
   "execution_count": 104,
   "metadata": {},
   "outputs": [],
   "source": [
    "path= 'data/FSM/'\n",
    "line = []\n",
    "att=[\"xEffect\",\"xIntent\",\"xNeed\",\"xReact\",\"xWant\"]\n",
    "df['cluster']=df[att].dropna().agg(' <sep> '.join, axis=1)\n",
    "with open(path+set_mode+'.txt','w') as f: \n",
    "    for idx in df['cluster'].tolist():\n",
    "        if type(idx)==float:\n",
    "            f.write('<sep>'+'\\n')\n",
    "        else:\n",
    "            f.write(idx+'\\n')"
   ]
  },
  {
   "cell_type": "code",
   "execution_count": 105,
   "metadata": {},
   "outputs": [
    {
     "data": {
      "text/plain": [
       "(211803, 9)"
      ]
     },
     "execution_count": 105,
     "metadata": {},
     "output_type": "execute_result"
    }
   ],
   "source": [
    "df.shape\n"
   ]
  },
  {
   "cell_type": "code",
   "execution_count": 102,
   "metadata": {},
   "outputs": [
    {
     "data": {
      "text/plain": [
       "0                                                      NaN\n",
       "1                                                      NaN\n",
       "2                                                      NaN\n",
       "3                                                      NaN\n",
       "4                                                      NaN\n",
       "                               ...                        \n",
       "23732    gets exercise <sep> to have fun <sep> to go to...\n",
       "23733    gets tired <sep> to be active <sep> to be acti...\n",
       "23734    gets cold <sep> to have fun <sep> to buy a pla...\n",
       "23735    shivers <sep> to enjoy the outdoors <sep> to g...\n",
       "23736    gets a lot of attention <sep> to be noticed <s...\n",
       "Name: cluster, Length: 23737, dtype: object"
      ]
     },
     "execution_count": 102,
     "metadata": {},
     "output_type": "execute_result"
    }
   ],
   "source": [
    "df['cluster']"
   ]
  },
  {
   "cell_type": "code",
   "execution_count": 84,
   "metadata": {},
   "outputs": [],
   "source": [
    "path= 'data/FSM/'\n",
    "line = []\n",
    "with open(path+set_mode+'_xneed.txt','w') as f: \n",
    "    for idx in df['xNeed'].tolist():\n",
    "        if idx == None:\n",
    "            f.write('<sep>'+'\\n')\n",
    "        else:\n",
    "            f.write(idx+'\\n')\n",
    "          "
   ]
  },
  {
   "cell_type": "code",
   "execution_count": 12,
   "metadata": {},
   "outputs": [
    {
     "ename": "AttributeError",
     "evalue": "'Series' object has no attribute 'split'",
     "output_type": "error",
     "traceback": [
      "\u001b[0;31m---------------\u001b[0m",
      "\u001b[0;31mAttributeError\u001b[0mTraceback (most recent call last)",
      "\u001b[0;32m<ipython-input-12-427e5e7a6b58>\u001b[0m in \u001b[0;36m<module>\u001b[0;34m\u001b[0m\n\u001b[1;32m     11\u001b[0m     \u001b[0mpred\u001b[0m \u001b[0;34m=\u001b[0m \u001b[0mmodel\u001b[0m\u001b[0;34m.\u001b[0m\u001b[0mpredict\u001b[0m\u001b[0;34m(\u001b[0m\u001b[0mvec\u001b[0m\u001b[0;34m)\u001b[0m\u001b[0;34m\u001b[0m\u001b[0;34m\u001b[0m\u001b[0m\n\u001b[1;32m     12\u001b[0m     \u001b[0;32mreturn\u001b[0m \u001b[0mpred\u001b[0m\u001b[0;34m[\u001b[0m\u001b[0;36m0\u001b[0m\u001b[0;34m]\u001b[0m\u001b[0;34m\u001b[0m\u001b[0;34m\u001b[0m\u001b[0m\n\u001b[0;32m---> 13\u001b[0;31m \u001b[0mdf_event\u001b[0m\u001b[0;34m[\u001b[0m\u001b[0;34m'cluster'\u001b[0m\u001b[0;34m]\u001b[0m\u001b[0;34m=\u001b[0m \u001b[0mdf_event\u001b[0m\u001b[0;34m.\u001b[0m\u001b[0mapply\u001b[0m\u001b[0;34m(\u001b[0m\u001b[0;32mlambda\u001b[0m \u001b[0mx\u001b[0m \u001b[0;34m:\u001b[0m\u001b[0mpredict\u001b[0m\u001b[0;34m(\u001b[0m\u001b[0matt\u001b[0m\u001b[0;34m,\u001b[0m\u001b[0mx\u001b[0m\u001b[0;34m)\u001b[0m\u001b[0;34m,\u001b[0m\u001b[0maxis\u001b[0m \u001b[0;34m=\u001b[0m\u001b[0;36m1\u001b[0m\u001b[0;34m)\u001b[0m\u001b[0;34m\u001b[0m\u001b[0;34m\u001b[0m\u001b[0m\n\u001b[0m\u001b[1;32m     14\u001b[0m \u001b[0mdf_event\u001b[0m\u001b[0;34m.\u001b[0m\u001b[0mto_csv\u001b[0m\u001b[0;34m(\u001b[0m\u001b[0;34m\"data/Persona-Chat/event/\"\u001b[0m\u001b[0;34m+\u001b[0m \u001b[0mset_mode\u001b[0m\u001b[0;34m+\u001b[0m\u001b[0;34m\"_all.csv\"\u001b[0m\u001b[0;34m)\u001b[0m\u001b[0;34m\u001b[0m\u001b[0;34m\u001b[0m\u001b[0m\n",
      "\u001b[0;32m~/anaconda3/envs/py3/lib/python3.6/site-packages/pandas/core/frame.py\u001b[0m in \u001b[0;36mapply\u001b[0;34m(self, func, axis, raw, result_type, args, **kwds)\u001b[0m\n\u001b[1;32m   6873\u001b[0m             \u001b[0mkwds\u001b[0m\u001b[0;34m=\u001b[0m\u001b[0mkwds\u001b[0m\u001b[0;34m,\u001b[0m\u001b[0;34m\u001b[0m\u001b[0;34m\u001b[0m\u001b[0m\n\u001b[1;32m   6874\u001b[0m         )\n\u001b[0;32m-> 6875\u001b[0;31m         \u001b[0;32mreturn\u001b[0m \u001b[0mop\u001b[0m\u001b[0;34m.\u001b[0m\u001b[0mget_result\u001b[0m\u001b[0;34m(\u001b[0m\u001b[0;34m)\u001b[0m\u001b[0;34m\u001b[0m\u001b[0;34m\u001b[0m\u001b[0m\n\u001b[0m\u001b[1;32m   6876\u001b[0m \u001b[0;34m\u001b[0m\u001b[0m\n\u001b[1;32m   6877\u001b[0m     \u001b[0;32mdef\u001b[0m \u001b[0mapplymap\u001b[0m\u001b[0;34m(\u001b[0m\u001b[0mself\u001b[0m\u001b[0;34m,\u001b[0m \u001b[0mfunc\u001b[0m\u001b[0;34m)\u001b[0m \u001b[0;34m->\u001b[0m \u001b[0;34m\"DataFrame\"\u001b[0m\u001b[0;34m:\u001b[0m\u001b[0;34m\u001b[0m\u001b[0;34m\u001b[0m\u001b[0m\n",
      "\u001b[0;32m~/anaconda3/envs/py3/lib/python3.6/site-packages/pandas/core/apply.py\u001b[0m in \u001b[0;36mget_result\u001b[0;34m(self)\u001b[0m\n\u001b[1;32m    184\u001b[0m             \u001b[0;32mreturn\u001b[0m \u001b[0mself\u001b[0m\u001b[0;34m.\u001b[0m\u001b[0mapply_raw\u001b[0m\u001b[0;34m(\u001b[0m\u001b[0;34m)\u001b[0m\u001b[0;34m\u001b[0m\u001b[0;34m\u001b[0m\u001b[0m\n\u001b[1;32m    185\u001b[0m \u001b[0;34m\u001b[0m\u001b[0m\n\u001b[0;32m--> 186\u001b[0;31m         \u001b[0;32mreturn\u001b[0m \u001b[0mself\u001b[0m\u001b[0;34m.\u001b[0m\u001b[0mapply_standard\u001b[0m\u001b[0;34m(\u001b[0m\u001b[0;34m)\u001b[0m\u001b[0;34m\u001b[0m\u001b[0;34m\u001b[0m\u001b[0m\n\u001b[0m\u001b[1;32m    187\u001b[0m \u001b[0;34m\u001b[0m\u001b[0m\n\u001b[1;32m    188\u001b[0m     \u001b[0;32mdef\u001b[0m \u001b[0mapply_empty_result\u001b[0m\u001b[0;34m(\u001b[0m\u001b[0mself\u001b[0m\u001b[0;34m)\u001b[0m\u001b[0;34m:\u001b[0m\u001b[0;34m\u001b[0m\u001b[0;34m\u001b[0m\u001b[0m\n",
      "\u001b[0;32m~/anaconda3/envs/py3/lib/python3.6/site-packages/pandas/core/apply.py\u001b[0m in \u001b[0;36mapply_standard\u001b[0;34m(self)\u001b[0m\n\u001b[1;32m    294\u001b[0m             \u001b[0;32mtry\u001b[0m\u001b[0;34m:\u001b[0m\u001b[0;34m\u001b[0m\u001b[0;34m\u001b[0m\u001b[0m\n\u001b[1;32m    295\u001b[0m                 result = libreduction.compute_reduction(\n\u001b[0;32m--> 296\u001b[0;31m                     \u001b[0mvalues\u001b[0m\u001b[0;34m,\u001b[0m \u001b[0mself\u001b[0m\u001b[0;34m.\u001b[0m\u001b[0mf\u001b[0m\u001b[0;34m,\u001b[0m \u001b[0maxis\u001b[0m\u001b[0;34m=\u001b[0m\u001b[0mself\u001b[0m\u001b[0;34m.\u001b[0m\u001b[0maxis\u001b[0m\u001b[0;34m,\u001b[0m \u001b[0mdummy\u001b[0m\u001b[0;34m=\u001b[0m\u001b[0mdummy\u001b[0m\u001b[0;34m,\u001b[0m \u001b[0mlabels\u001b[0m\u001b[0;34m=\u001b[0m\u001b[0mlabels\u001b[0m\u001b[0;34m\u001b[0m\u001b[0;34m\u001b[0m\u001b[0m\n\u001b[0m\u001b[1;32m    297\u001b[0m                 )\n\u001b[1;32m    298\u001b[0m             \u001b[0;32mexcept\u001b[0m \u001b[0mValueError\u001b[0m \u001b[0;32mas\u001b[0m \u001b[0merr\u001b[0m\u001b[0;34m:\u001b[0m\u001b[0;34m\u001b[0m\u001b[0;34m\u001b[0m\u001b[0m\n",
      "\u001b[0;32mpandas/_libs/reduction.pyx\u001b[0m in \u001b[0;36mpandas._libs.reduction.compute_reduction\u001b[0;34m()\u001b[0m\n",
      "\u001b[0;32mpandas/_libs/reduction.pyx\u001b[0m in \u001b[0;36mpandas._libs.reduction.Reducer.get_result\u001b[0;34m()\u001b[0m\n",
      "\u001b[0;32m<ipython-input-12-427e5e7a6b58>\u001b[0m in \u001b[0;36m<lambda>\u001b[0;34m(x)\u001b[0m\n\u001b[1;32m     11\u001b[0m     \u001b[0mpred\u001b[0m \u001b[0;34m=\u001b[0m \u001b[0mmodel\u001b[0m\u001b[0;34m.\u001b[0m\u001b[0mpredict\u001b[0m\u001b[0;34m(\u001b[0m\u001b[0mvec\u001b[0m\u001b[0;34m)\u001b[0m\u001b[0;34m\u001b[0m\u001b[0;34m\u001b[0m\u001b[0m\n\u001b[1;32m     12\u001b[0m     \u001b[0;32mreturn\u001b[0m \u001b[0mpred\u001b[0m\u001b[0;34m[\u001b[0m\u001b[0;36m0\u001b[0m\u001b[0;34m]\u001b[0m\u001b[0;34m\u001b[0m\u001b[0;34m\u001b[0m\u001b[0m\n\u001b[0;32m---> 13\u001b[0;31m \u001b[0mdf_event\u001b[0m\u001b[0;34m[\u001b[0m\u001b[0;34m'cluster'\u001b[0m\u001b[0;34m]\u001b[0m\u001b[0;34m=\u001b[0m \u001b[0mdf_event\u001b[0m\u001b[0;34m.\u001b[0m\u001b[0mapply\u001b[0m\u001b[0;34m(\u001b[0m\u001b[0;32mlambda\u001b[0m \u001b[0mx\u001b[0m \u001b[0;34m:\u001b[0m\u001b[0mpredict\u001b[0m\u001b[0;34m(\u001b[0m\u001b[0matt\u001b[0m\u001b[0;34m,\u001b[0m\u001b[0mx\u001b[0m\u001b[0;34m)\u001b[0m\u001b[0;34m,\u001b[0m\u001b[0maxis\u001b[0m \u001b[0;34m=\u001b[0m\u001b[0;36m1\u001b[0m\u001b[0;34m)\u001b[0m\u001b[0;34m\u001b[0m\u001b[0;34m\u001b[0m\u001b[0m\n\u001b[0m\u001b[1;32m     14\u001b[0m \u001b[0mdf_event\u001b[0m\u001b[0;34m.\u001b[0m\u001b[0mto_csv\u001b[0m\u001b[0;34m(\u001b[0m\u001b[0;34m\"data/Persona-Chat/event/\"\u001b[0m\u001b[0;34m+\u001b[0m \u001b[0mset_mode\u001b[0m\u001b[0;34m+\u001b[0m\u001b[0;34m\"_all.csv\"\u001b[0m\u001b[0;34m)\u001b[0m\u001b[0;34m\u001b[0m\u001b[0;34m\u001b[0m\u001b[0m\n",
      "\u001b[0;32m<ipython-input-12-427e5e7a6b58>\u001b[0m in \u001b[0;36mpredict\u001b[0;34m(att, df)\u001b[0m\n\u001b[1;32m      8\u001b[0m     \u001b[0;32mif\u001b[0m \u001b[0mdf\u001b[0m\u001b[0;34m[\u001b[0m\u001b[0matt\u001b[0m\u001b[0;34m]\u001b[0m \u001b[0;32mis\u001b[0m \u001b[0;32mNone\u001b[0m\u001b[0;34m:\u001b[0m\u001b[0;34m\u001b[0m\u001b[0;34m\u001b[0m\u001b[0m\n\u001b[1;32m      9\u001b[0m         \u001b[0;32mreturn\u001b[0m \u001b[0;32mNone\u001b[0m\u001b[0;34m\u001b[0m\u001b[0;34m\u001b[0m\u001b[0m\n\u001b[0;32m---> 10\u001b[0;31m     \u001b[0mvec\u001b[0m \u001b[0;34m=\u001b[0m \u001b[0msum_vec\u001b[0m\u001b[0;34m(\u001b[0m\u001b[0mdf\u001b[0m\u001b[0;34m[\u001b[0m\u001b[0matt\u001b[0m\u001b[0;34m]\u001b[0m\u001b[0;34m)\u001b[0m\u001b[0;34m.\u001b[0m\u001b[0mreshape\u001b[0m\u001b[0;34m(\u001b[0m\u001b[0;36m1\u001b[0m\u001b[0;34m,\u001b[0m\u001b[0;34m-\u001b[0m\u001b[0;36m1\u001b[0m\u001b[0;34m)\u001b[0m\u001b[0;34m\u001b[0m\u001b[0;34m\u001b[0m\u001b[0m\n\u001b[0m\u001b[1;32m     11\u001b[0m     \u001b[0mpred\u001b[0m \u001b[0;34m=\u001b[0m \u001b[0mmodel\u001b[0m\u001b[0;34m.\u001b[0m\u001b[0mpredict\u001b[0m\u001b[0;34m(\u001b[0m\u001b[0mvec\u001b[0m\u001b[0;34m)\u001b[0m\u001b[0;34m\u001b[0m\u001b[0;34m\u001b[0m\u001b[0m\n\u001b[1;32m     12\u001b[0m     \u001b[0;32mreturn\u001b[0m \u001b[0mpred\u001b[0m\u001b[0;34m[\u001b[0m\u001b[0;36m0\u001b[0m\u001b[0;34m]\u001b[0m\u001b[0;34m\u001b[0m\u001b[0;34m\u001b[0m\u001b[0m\n",
      "\u001b[0;32m<ipython-input-5-4166d55ba5b2>\u001b[0m in \u001b[0;36msum_vec\u001b[0;34m(x)\u001b[0m\n\u001b[1;32m      2\u001b[0m \u001b[0;32mdef\u001b[0m \u001b[0msum_vec\u001b[0m\u001b[0;34m(\u001b[0m\u001b[0mx\u001b[0m\u001b[0;34m)\u001b[0m\u001b[0;34m:\u001b[0m\u001b[0;34m\u001b[0m\u001b[0;34m\u001b[0m\u001b[0m\n\u001b[1;32m      3\u001b[0m     \u001b[0mres\u001b[0m \u001b[0;34m=\u001b[0m \u001b[0mnp\u001b[0m\u001b[0;34m.\u001b[0m\u001b[0mzeros\u001b[0m\u001b[0;34m(\u001b[0m\u001b[0;36m300\u001b[0m\u001b[0;34m)\u001b[0m\u001b[0;34m\u001b[0m\u001b[0;34m\u001b[0m\u001b[0m\n\u001b[0;32m----> 4\u001b[0;31m     \u001b[0mwords\u001b[0m\u001b[0;34m=\u001b[0m \u001b[0mx\u001b[0m\u001b[0;34m.\u001b[0m\u001b[0msplit\u001b[0m\u001b[0;34m(\u001b[0m\u001b[0;34m)\u001b[0m\u001b[0;34m\u001b[0m\u001b[0;34m\u001b[0m\u001b[0m\n\u001b[0m\u001b[1;32m      5\u001b[0m     \u001b[0;32mfor\u001b[0m \u001b[0mword\u001b[0m \u001b[0;32min\u001b[0m \u001b[0mwords\u001b[0m\u001b[0;34m:\u001b[0m\u001b[0;34m\u001b[0m\u001b[0;34m\u001b[0m\u001b[0m\n\u001b[1;32m      6\u001b[0m         \u001b[0;32mif\u001b[0m \u001b[0mword\u001b[0m \u001b[0;32min\u001b[0m \u001b[0mglove\u001b[0m\u001b[0;34m:\u001b[0m\u001b[0;34m\u001b[0m\u001b[0;34m\u001b[0m\u001b[0m\n",
      "\u001b[0;32m~/anaconda3/envs/py3/lib/python3.6/site-packages/pandas/core/generic.py\u001b[0m in \u001b[0;36m__getattr__\u001b[0;34m(self, name)\u001b[0m\n\u001b[1;32m   5271\u001b[0m             \u001b[0;32mif\u001b[0m \u001b[0mself\u001b[0m\u001b[0;34m.\u001b[0m\u001b[0m_info_axis\u001b[0m\u001b[0;34m.\u001b[0m\u001b[0m_can_hold_identifiers_and_holds_name\u001b[0m\u001b[0;34m(\u001b[0m\u001b[0mname\u001b[0m\u001b[0;34m)\u001b[0m\u001b[0;34m:\u001b[0m\u001b[0;34m\u001b[0m\u001b[0;34m\u001b[0m\u001b[0m\n\u001b[1;32m   5272\u001b[0m                 \u001b[0;32mreturn\u001b[0m \u001b[0mself\u001b[0m\u001b[0;34m[\u001b[0m\u001b[0mname\u001b[0m\u001b[0;34m]\u001b[0m\u001b[0;34m\u001b[0m\u001b[0;34m\u001b[0m\u001b[0m\n\u001b[0;32m-> 5273\u001b[0;31m             \u001b[0;32mreturn\u001b[0m \u001b[0mobject\u001b[0m\u001b[0;34m.\u001b[0m\u001b[0m__getattribute__\u001b[0m\u001b[0;34m(\u001b[0m\u001b[0mself\u001b[0m\u001b[0;34m,\u001b[0m \u001b[0mname\u001b[0m\u001b[0;34m)\u001b[0m\u001b[0;34m\u001b[0m\u001b[0;34m\u001b[0m\u001b[0m\n\u001b[0m\u001b[1;32m   5274\u001b[0m \u001b[0;34m\u001b[0m\u001b[0m\n\u001b[1;32m   5275\u001b[0m     \u001b[0;32mdef\u001b[0m \u001b[0m__setattr__\u001b[0m\u001b[0;34m(\u001b[0m\u001b[0mself\u001b[0m\u001b[0;34m,\u001b[0m \u001b[0mname\u001b[0m\u001b[0;34m:\u001b[0m \u001b[0mstr\u001b[0m\u001b[0;34m,\u001b[0m \u001b[0mvalue\u001b[0m\u001b[0;34m)\u001b[0m \u001b[0;34m->\u001b[0m \u001b[0;32mNone\u001b[0m\u001b[0;34m:\u001b[0m\u001b[0;34m\u001b[0m\u001b[0;34m\u001b[0m\u001b[0m\n",
      "\u001b[0;31mAttributeError\u001b[0m: 'Series' object has no attribute 'split'"
     ]
    }
   ],
   "source": [
    "att=[\"xEffect\",\"xIntent\",\"xNeed\",\"xReact\",\"xWant\"]\n",
    "res = df_event[att].dropna().agg(' '.join, axis=1).map(lambda x: sum_vec(x) )\n",
    "res = res.tolist()\n",
    "model,Z = cluster(10,res)\n",
    "file=\"cluster_embed_all.npy\"\n",
    "np.save(file, model.cluster_centers_)\n",
    "\n",
    "def predict(att,df):\n",
    "    if df[att[0]] is None:\n",
    "        return None\n",
    "    vec = sum_vec(\" \".join(df[att].tolist())).reshape(1,-1)\n",
    "    pred = model.predict(vec)\n",
    "    return pred[0]\n",
    "df['cluster']= df.apply(lambda x :predict(att,x),axis =1)\n",
    "df.to_csv(\"data/Persona-Chat/event/\"+ set_mode+\"_all.csv\")"
   ]
  },
  {
   "cell_type": "code",
   "execution_count": null,
   "metadata": {},
   "outputs": [],
   "source": [
    "df.shape"
   ]
  },
  {
   "cell_type": "code",
   "execution_count": 46,
   "metadata": {},
   "outputs": [],
   "source": []
  },
  {
   "cell_type": "code",
   "execution_count": 51,
   "metadata": {},
   "outputs": [],
   "source": [
    "# import pickle\n",
    "# s=pickle.dumps(model) \n",
    "# with open('cluster.joblib','wb') as f:\n",
    "#     f.write(s)"
   ]
  },
  {
   "cell_type": "markdown",
   "metadata": {},
   "source": [
    "# Plot Common words"
   ]
  },
  {
   "cell_type": "code",
   "execution_count": 23,
   "metadata": {},
   "outputs": [
    {
     "name": "stdout",
     "output_type": "stream",
     "text": [
      "0/15602\n",
      "2000/15602\n",
      "4000/15602\n",
      "6000/15602\n",
      "8000/15602\n",
      "10000/15602\n",
      "12000/15602\n",
      "14000/15602\n",
      "======xEffect=======\n",
      "total token 47880\n",
      "total noun 13758 ratio 0.28734335839598996\n"
     ]
    },
    {
     "data": {
      "image/png": "[encoded data removed]",
      "text/plain": [
       "<Figure size 1440x720 with 1 Axes>"
      ]
     },
     "metadata": {
      "needs_background": "light"
     },
     "output_type": "display_data"
    },
    {
     "name": "stdout",
     "output_type": "stream",
     "text": [
      "0/15602\n",
      "2000/15602\n",
      "4000/15602\n",
      "6000/15602\n",
      "8000/15602\n",
      "10000/15602\n",
      "12000/15602\n",
      "14000/15602\n",
      "======xIntent=======\n",
      "total token 54648\n",
      "total noun 8557 ratio 0.15658395549699897\n"
     ]
    },
    {
     "data": {
      "image/png": "[encoded data removed]",
      "text/plain": [
       "<Figure size 1440x720 with 1 Axes>"
      ]
     },
     "metadata": {
      "needs_background": "light"
     },
     "output_type": "display_data"
    },
    {
     "name": "stdout",
     "output_type": "stream",
     "text": [
      "0/15602\n",
      "2000/15602\n",
      "4000/15602\n",
      "6000/15602\n",
      "8000/15602\n",
      "10000/15602\n",
      "12000/15602\n",
      "14000/15602\n",
      "======xNeed=======\n",
      "total token 67553\n",
      "total noun 15101 ratio 0.22354299586990956\n"
     ]
    },
    {
     "data": {
      "image/png": "[encoded data removed]",
      "text/plain": [
       "<Figure size 1440x720 with 1 Axes>"
      ]
     },
     "metadata": {
      "needs_background": "light"
     },
     "output_type": "display_data"
    },
    {
     "name": "stdout",
     "output_type": "stream",
     "text": [
      "0/15602\n",
      "2000/15602\n",
      "4000/15602\n",
      "6000/15602\n",
      "8000/15602\n",
      "10000/15602\n",
      "12000/15602\n",
      "14000/15602\n",
      "======xReact=======\n",
      "total token 15735\n",
      "total noun 380 ratio 0.024149984111852558\n"
     ]
    },
    {
     "data": {
      "image/png": "[encoded data removed]",
      "text/plain": [
       "<Figure size 1440x720 with 1 Axes>"
      ]
     },
     "metadata": {
      "needs_background": "light"
     },
     "output_type": "display_data"
    },
    {
     "name": "stdout",
     "output_type": "stream",
     "text": [
      "0/15602\n",
      "2000/15602\n",
      "4000/15602\n",
      "6000/15602\n",
      "8000/15602\n",
      "10000/15602\n",
      "12000/15602\n",
      "14000/15602\n",
      "======xWant=======\n",
      "total token 59801\n",
      "total noun 10748 ratio 0.17972943596260932\n"
     ]
    },
    {
     "data": {
      "image/png": "[encoded data removed]",
      "text/plain": [
       "<Figure size 1440x720 with 1 Axes>"
      ]
     },
     "metadata": {
      "needs_background": "light"
     },
     "output_type": "display_data"
    }
   ],
   "source": [
    "res_dict = {}\n",
    "for att in [\"xEffect\",\"xIntent\",\"xNeed\",\"xReact\",\"xWant\"]:\n",
    "    res, common = analyze(att)\n",
    "    res_dict[att] = res\n",
    "    plt.figure(figsize=(20,10))\n",
    "    plt.bar(common.keys(), common.values())\n",
    "    plt.show()"
   ]
  },
  {
   "cell_type": "code",
   "execution_count": 26,
   "metadata": {},
   "outputs": [
    {
     "name": "stdout",
     "output_type": "stream",
     "text": [
      "0/15024\n",
      "2000/15024\n",
      "4000/15024\n",
      "6000/15024\n",
      "8000/15024\n",
      "10000/15024\n",
      "12000/15024\n",
      "14000/15024\n",
      "======xIntent=======\n",
      "total token 52842\n",
      "total noun 8281 ratio 0.15671246357064456\n"
     ]
    },
    {
     "data": {
      "image/png": "[encoded data removed]",
      "text/plain": [
       "<Figure size 1440x720 with 1 Axes>"
      ]
     },
     "metadata": {
      "needs_background": "light"
     },
     "output_type": "display_data"
    },
    {
     "name": "stdout",
     "output_type": "stream",
     "text": [
      "0/15024\n",
      "2000/15024\n",
      "4000/15024\n",
      "6000/15024\n",
      "8000/15024\n",
      "10000/15024\n",
      "12000/15024\n",
      "14000/15024\n",
      "======xNeed=======\n",
      "total token 64769\n",
      "total noun 14625 ratio 0.22580246722969322\n"
     ]
    },
    {
     "data": {
      "image/png": "[encoded data removed]",
      "text/plain": [
       "<Figure size 1440x720 with 1 Axes>"
      ]
     },
     "metadata": {
      "needs_background": "light"
     },
     "output_type": "display_data"
    },
    {
     "name": "stdout",
     "output_type": "stream",
     "text": [
      "0/15024\n",
      "2000/15024\n",
      "4000/15024\n",
      "6000/15024\n",
      "8000/15024\n",
      "10000/15024\n",
      "12000/15024\n",
      "14000/15024\n",
      "======xReact=======\n",
      "total token 15153\n",
      "total noun 335 ratio 0.022107833432323632\n"
     ]
    },
    {
     "data": {
      "image/png": "[encoded data removed]",
      "text/plain": [
       "<Figure size 1440x720 with 1 Axes>"
      ]
     },
     "metadata": {
      "needs_background": "light"
     },
     "output_type": "display_data"
    },
    {
     "name": "stdout",
     "output_type": "stream",
     "text": [
      "0/15024\n",
      "2000/15024\n",
      "4000/15024\n",
      "6000/15024\n",
      "8000/15024\n",
      "10000/15024\n",
      "12000/15024\n",
      "14000/15024\n",
      "======xWant=======\n",
      "total token 57372\n",
      "total noun 10289 ratio 0.17933835320365335\n"
     ]
    },
    {
     "data": {
      "image/png": "[encoded data removed]",
      "text/plain": [
       "<Figure size 1440x720 with 1 Axes>"
      ]
     },
     "metadata": {
      "needs_background": "light"
     },
     "output_type": "display_data"
    }
   ],
   "source": [
    "res_dict_te = {}\n",
    "for att in [\"xEffect\",\"xIntent\",\"xNeed\",\"xReact\",\"xWant\"]:\n",
    "    res, common = analyze(att)\n",
    "    res_dict[att] = res\n",
    "    plt.figure(figsize=(20,10))\n",
    "    plt.bar(common.keys(), common.values())\n",
    "    plt.show()"
   ]
  },
  {
   "cell_type": "markdown",
   "metadata": {},
   "source": [
    "# Preprocess for seq2seq data"
   ]
  },
  {
   "cell_type": "code",
   "execution_count": 48,
   "metadata": {},
   "outputs": [
    {
     "data": {
      "text/plain": [
       "['<xEffect> ', '<xIntent> ', '<xReact> ', '<xNeed> ', '<xWant> ']"
      ]
     },
     "execution_count": 48,
     "metadata": {},
     "output_type": "execute_result"
    }
   ],
   "source": [
    "import pandas as pd\n",
    "\n",
    "event_list = ['xEffect', 'xIntent', 'xReact','xNeed', 'xWant']\n",
    "[ '<{}> '.format(e)for e in event_list] "
   ]
  },
  {
   "cell_type": "markdown",
   "metadata": {},
   "source": [
    "## Load Csv file with all cluster embedding"
   ]
  },
  {
   "cell_type": "code",
   "execution_count": 41,
   "metadata": {},
   "outputs": [
    {
     "name": "stdout",
     "output_type": "stream",
     "text": [
      "211803\n",
      "211803\n",
      "length 211803\n"
     ]
    }
   ],
   "source": [
    "import pickle\n",
    "from collections import deque\n",
    "\n",
    "set_name='train'\n",
    "df=pd.read_csv(\"data/Persona-Chat/event/\"+ set_name+\"_all.csv\")\n",
    "cluster=list(df.cluster)\n",
    "print(len(cluster))\n",
    "\n",
    "\n",
    "import pickle\n",
    "from collections import deque\n",
    "import os\n",
    "dialogs = pickle.load( open( 'data/Persona-Chat/event/'+set_name+'_dict.pkl', \"rb\" ) )\n",
    "print(len(dialogs))\n",
    "def gen(attr):\n",
    "    dialog_id = 0\n",
    "    history =[]\n",
    "    truncate_length = 3 \n",
    "    add_event = True\n",
    "    path ='data/KGdial/cluster_'+attr+'/'\n",
    "    if not os.path.exists(path):\n",
    "        os.makedirs(path)\n",
    "\n",
    "    last_event = []\n",
    "    his = deque([])\n",
    "    cnt = 0\n",
    "    sent_id=-1\n",
    "    print('length',len(dialogs))\n",
    "    with open(path + 'src-'+set_name+'.txt','w') as f_src:\n",
    "            with open(path +'tgt-'+set_name+'.txt','w') as f_tgt:\n",
    "                for utt in dialogs:\n",
    "                    # First skip the persona\n",
    "                    cnt +=1\n",
    "                    sent_id+=1\n",
    "                    \n",
    "                    if utt['idx'] == -1:\n",
    "                        continue\n",
    "                    if utt['dialog_id'] == dialog_id:\n",
    "                        if len(his)== 0:\n",
    "                            his.append(utt[\"utterance\"])  \n",
    "                            continue\n",
    "                        if add_event is True:\n",
    "                            cur_events =  '<{}> '.format(attr)+'cluall'+str(int(cluster[sent_id]))\n",
    "                        if len(his) > truncate_length:\n",
    "                            his.popleft()\n",
    "                        src_sent = \" \".join(his)\n",
    "                        if add_event is True:\n",
    "                            src_sent += \" \"\n",
    "                            src_sent += cur_events\n",
    "                        f_src.write(src_sent+'\\n')\n",
    "    #                     assert utt[\"utterance\"] ==dialog2[cnt-1][\"utterance\"]\n",
    "                        f_tgt.write(utt[\"utterance\"]+'\\n')\n",
    "                        his.append(utt[\"utterance\"])\n",
    "\n",
    "                    else:\n",
    "                        his = deque([])\n",
    "                        dialog_id += 1\n",
    "                \n",
    "                \n",
    "event_list = ['all']\n",
    "for e in event_list :\n",
    "    gen(e)"
   ]
  },
  {
   "cell_type": "markdown",
   "metadata": {},
   "source": [
    "## Load Csv file with XNeed cluster embedding"
   ]
  },
  {
   "cell_type": "code",
   "execution_count": 57,
   "metadata": {},
   "outputs": [
    {
     "name": "stdout",
     "output_type": "stream",
     "text": [
      "23737\n",
      "23737\n",
      "length 23737\n"
     ]
    }
   ],
   "source": [
    "import pickle\n",
    "from collections import deque\n",
    "\n",
    "set_name='test'\n",
    "df=pd.read_csv(\"data/Persona-Chat/event/\"+ set_name+\".csv\")\n",
    "cluster=list(df.cluster)\n",
    "print(len(cluster))\n",
    "\n",
    "\n",
    "import pickle\n",
    "from collections import deque\n",
    "import os\n",
    "dialogs = pickle.load( open( 'data/Persona-Chat/event/'+set_name+'_dict.pkl', \"rb\" ) )\n",
    "print(len(dialogs))\n",
    "def gen(attr):\n",
    "    dialog_id = 0\n",
    "    history =[]\n",
    "    truncate_length = 3 \n",
    "    add_event = True\n",
    "    path ='data/KGdial/cluster_'+attr+'/'\n",
    "    if not os.path.exists(path):\n",
    "        os.makedirs(path)\n",
    "\n",
    "    last_event = []\n",
    "    his = deque([])\n",
    "    cnt = 0\n",
    "    sent_id=-1\n",
    "    print('length',len(dialogs))\n",
    "    with open(path + 'src-'+set_name+'.txt','w') as f_src:\n",
    "            with open(path +'tgt-'+set_name+'.txt','w') as f_tgt:\n",
    "                for utt in dialogs:\n",
    "                    # First skip the persona\n",
    "                    cnt +=1\n",
    "                    sent_id+=1\n",
    "                    \n",
    "                    if utt['idx'] == -1:\n",
    "                        continue\n",
    "                    if utt['dialog_id'] == dialog_id:\n",
    "                        if len(his)== 0:\n",
    "                            his.append(utt[\"utterance\"])  \n",
    "                            continue\n",
    "                        if add_event is True:\n",
    "                            cur_events =  '<{}> '.format(attr)+'cl'+str(int(cluster[sent_id]))\n",
    "                        if len(his) > truncate_length:\n",
    "                            his.popleft()\n",
    "                        src_sent = \" \".join(his)\n",
    "                        if add_event is True:\n",
    "                            src_sent += \" \"\n",
    "                            src_sent += cur_events\n",
    "                        f_src.write(src_sent+'\\n')\n",
    "    #                     assert utt[\"utterance\"] ==dialog2[cnt-1][\"utterance\"]\n",
    "                        f_tgt.write(utt[\"utterance\"]+'\\n')\n",
    "                        his.append(utt[\"utterance\"])\n",
    "\n",
    "                    else:\n",
    "                        his = deque([])\n",
    "                        dialog_id += 1\n",
    "                \n",
    "                \n",
    "event_list = ['xNeed']\n",
    "for e in event_list :\n",
    "    gen(e)"
   ]
  },
  {
   "cell_type": "code",
   "execution_count": null,
   "metadata": {},
   "outputs": [],
   "source": [
    "import pickle\n",
    "from collections import Counter\n",
    "\n",
    "set_name='train'\n",
    "df=pd.read_csv(\"data/Persona-Chat/event/\"+ set_name+\".csv\")\n",
    "cluster=list(df.cluster)\n",
    "c = Counter(cluster)"
   ]
  },
  {
   "cell_type": "code",
   "execution_count": 37,
   "metadata": {},
   "outputs": [],
   "source": [
    "# Add cluster embedding to Glove embedding\n",
    "embeds=[]\n",
    "cluster_rep=np.load(\"cluster_embed.npy\")\n",
    "for i in range(10):\n",
    "    assert cluster_rep[i].shape == (300,)\n",
    "    np.set_printoptions(suppress=True)\n",
    "    rep=\"cluall{} \".format(i)+\" \".join(map(str,cluster_rep[i].tolist()))\n",
    "    embeds.append(rep)\n",
    "with open(\"/home/xuewei/glove_dir/extra.txt\",'w') as f:\n",
    "    f.write(\"\\n\".join(embeds))\n",
    "    f.write(\"\\n\")"
   ]
  },
  {
   "cell_type": "code",
   "execution_count": 55,
   "metadata": {},
   "outputs": [
    {
     "data": {
      "text/plain": [
       "(25, 300)"
      ]
     },
     "execution_count": 55,
     "metadata": {},
     "output_type": "execute_result"
    }
   ],
   "source": [
    "cluster_rep.shape"
   ]
  },
  {
   "cell_type": "markdown",
   "metadata": {},
   "source": [
    "## Load csv data for cluster prediction"
   ]
  },
  {
   "cell_type": "code",
   "execution_count": null,
   "metadata": {},
   "outputs": [],
   "source": [
    "import pickle\n",
    "from collections import deque\n",
    "\n",
    "set_name='test'\n",
    "df=pd.read_csv(\"data/Persona-Chat/event/\"+ set_name+\".csv\")\n",
    "cluster=list(df.cluster)\n",
    "print(len(cluster))\n",
    "\n",
    "\n",
    "import pickle\n",
    "from collections import deque\n",
    "import os\n",
    "dialogs = pickle.load( open( 'data/Persona-Chat/event/'+set_name+'_dict.pkl', \"rb\" ) )\n",
    "print(len(dialogs))\n",
    "def gen(attr):\n",
    "    dialog_id = 0\n",
    "    history =[]\n",
    "    truncate_length = 10\n",
    "    add_event = True\n",
    "    path ='data/KGdial/cluster_pred_'+attr+'_event/'\n",
    "    if not os.path.exists(path):\n",
    "        os.makedirs(path)\n",
    "\n",
    "    last_event = []\n",
    "    his = deque([])\n",
    "    cnt = 0\n",
    "    sent_id=-1\n",
    "    print('length',len(dialogs))\n",
    "    with open(path + set_name+'.input','w') as f_src:\n",
    "            with open(path+set_name+'.label','w') as f_tgt:\n",
    "                for utt in dialogs:\n",
    "                    # First skip the persona\n",
    "                    cnt +=1\n",
    "                    sent_id+=1\n",
    "                    \n",
    "                    if utt['idx'] == -1:\n",
    "                        continue\n",
    "                    if utt['dialog_id'] == dialog_id:\n",
    "                        if len(his)== 0:\n",
    "                            his.append(utt)  \n",
    "                            continue\n",
    "                        if add_event is True:\n",
    "                            cur_events = '<sep> '+his[-1][attr]\n",
    "                        cluster_idx =  str(int(cluster[sent_id]))\n",
    "                            \n",
    "                        if len(his) > truncate_length:\n",
    "                            his.popleft()\n",
    "                        src_sent = \" \".join([h['utterance'] for h in his])\n",
    "                        if add_event is True:\n",
    "                            src_sent += \" \"\n",
    "                            src_sent += cur_events\n",
    "                        f_src.write(src_sent+'\\n')\n",
    "#                         f_tgt.write(utt[\"utterance\"]+'\\n')\n",
    "                        f_tgt.write(cluster_idx+'\\n')\n",
    "                        \n",
    "                        his.append(utt)\n",
    "\n",
    "                    else:\n",
    "                        his = deque([])\n",
    "                        dialog_id += 1\n",
    "                \n",
    "                \n",
    "event_list = ['xNeed']\n",
    "for e in event_list :\n",
    "    gen(e)"
   ]
  },
  {
   "cell_type": "markdown",
   "metadata": {},
   "source": [
    "# Load all event for cluster prediction"
   ]
  },
  {
   "cell_type": "code",
   "execution_count": 46,
   "metadata": {},
   "outputs": [
    {
     "name": "stdout",
     "output_type": "stream",
     "text": [
      "211803\n",
      "211803\n",
      "length 211803\n"
     ]
    }
   ],
   "source": [
    "import pickle\n",
    "from collections import deque\n",
    "\n",
    "set_name='train'\n",
    "df=pd.read_csv(\"data/Persona-Chat/event/\"+ set_name+\"_all.csv\")\n",
    "cluster=list(df.cluster)\n",
    "print(len(cluster))\n",
    "\n",
    "\n",
    "import pickle\n",
    "from collections import deque\n",
    "import os\n",
    "dialogs = pickle.load( open( 'data/Persona-Chat/event/'+set_name+'_dict.pkl', \"rb\" ) )\n",
    "print(len(dialogs))\n",
    "def gen(attr):\n",
    "    dialog_id = 0\n",
    "    history =[]\n",
    "    truncate_length = 10\n",
    "    add_event = True\n",
    "    path ='data/KGdial/cluster_pred_'+attr+'_event/'\n",
    "    if not os.path.exists(path):\n",
    "        os.makedirs(path)\n",
    "\n",
    "    last_event = []\n",
    "    his = deque([])\n",
    "    cnt = 0\n",
    "    sent_id=-1\n",
    "    print('length',len(dialogs))\n",
    "    with open(path + set_name+'.input','w') as f_src:\n",
    "            with open(path+set_name+'.label','w') as f_tgt:\n",
    "                for utt in dialogs:\n",
    "                    # First skip the persona\n",
    "                    cnt +=1\n",
    "                    sent_id+=1\n",
    "                    \n",
    "                    if utt['idx'] == -1:\n",
    "                        continue\n",
    "                    if utt['dialog_id'] == dialog_id:\n",
    "                        if len(his)== 0:\n",
    "                            his.append(utt)  \n",
    "                            continue\n",
    "                        if add_event is True:\n",
    "                            event_list = ['xEffect', 'xIntent', 'xReact','xNeed', 'xWant']\n",
    "                            cur_events = \" \".join([ '<sep> '.format(e)+his[-1][e] for e in event_list])\n",
    "                        cluster_idx =  str(int(cluster[sent_id]))\n",
    "                            \n",
    "                        if len(his) > truncate_length:\n",
    "                            his.popleft()\n",
    "                        src_sent = \" \".join([h['utterance'] for h in his])\n",
    "                        if add_event is True:\n",
    "                            src_sent += \" \"\n",
    "                            src_sent += cur_events\n",
    "                        f_src.write(src_sent+'\\n')\n",
    "#                         f_tgt.write(utt[\"utterance\"]+'\\n')\n",
    "                        f_tgt.write(cluster_idx+'\\n')\n",
    "                        \n",
    "                        his.append(utt)\n",
    "\n",
    "                    else:\n",
    "                        his = deque([])\n",
    "                        dialog_id += 1\n",
    "                \n",
    "                \n",
    "event_list = ['all']\n",
    "for e in event_list :\n",
    "    gen(e)"
   ]
  },
  {
   "cell_type": "markdown",
   "metadata": {},
   "source": [
    "## Load from pkl file with current event"
   ]
  },
  {
   "cell_type": "code",
   "execution_count": 54,
   "metadata": {},
   "outputs": [
    {
     "name": "stdout",
     "output_type": "stream",
     "text": [
      "length 23737\n",
      "13089\n"
     ]
    }
   ],
   "source": [
    "import pickle\n",
    "from collections import deque\n",
    "set_name = 'test'\n",
    "dialogs = pickle.load( open( 'data/Persona-Chat/event/'+set_name+'_dict.pkl', \"rb\" ) )\n",
    "ialog_done = False\n",
    "dialog_id = 0\n",
    "history =[]\n",
    "truncate_length = 3 \n",
    "add_event = True\n",
    "path ='data/KGdial/'\n",
    "\n",
    "last_event = []\n",
    "his = deque([])\n",
    "cnt = 0\n",
    "print('length',len(dialogs))\n",
    "with open(path + 'src-'+set_name+'.txt','w') as f_src:\n",
    "        with open(path +'tgt-'+set_name+'.txt','w') as f_tgt:\n",
    "            for utt in dialogs:\n",
    "                # First skip the persona\n",
    "                if utt['idx'] == -1:\n",
    "                    continue\n",
    "                if utt['dialog_id'] == dialog_id:\n",
    "                    if len(his)== 0:\n",
    "                        his.append(utt[\"utterance\"])  \n",
    "                        continue\n",
    "                    if add_event is True:\n",
    "                        event_list = ['xEffect', 'xIntent', 'xReact','xNeed', 'xWant']\n",
    "                        cur_events = [ '<{}> '.format(e)+utt[e] for e in event_list] \n",
    "                    if len(his) > truncate_length:\n",
    "                        his.popleft()\n",
    "                    src_sent = \" \".join(his)\n",
    "                    if add_event is True:\n",
    "                        src_sent += \" \"\n",
    "                        src_sent += \" \".join(cur_events)\n",
    "                    f_src.write(src_sent+'\\n')\n",
    "                    f_tgt.write(utt[\"utterance\"]+'\\n')\n",
    "                    his.append(utt[\"utterance\"])\n",
    "                    cnt +=1\n",
    "                else:\n",
    "                    his = deque([])\n",
    "                    dialog_id += 1\n",
    "                \n",
    "print(cnt)\n"
   ]
  },
  {
   "cell_type": "markdown",
   "metadata": {},
   "source": [
    "## Load from pkl file with last event"
   ]
  },
  {
   "cell_type": "code",
   "execution_count": 53,
   "metadata": {},
   "outputs": [
    {
     "name": "stdout",
     "output_type": "stream",
     "text": [
      "length 211803\n",
      "113561\n"
     ]
    }
   ],
   "source": [
    "import pickle\n",
    "from collections import deque\n",
    "set_name = 'train'\n",
    "dialogs = pickle.load( open( 'data/Persona-Chat/event/'+set_name+'_dict.pkl', \"rb\" ) )\n",
    "ialog_done = False\n",
    "dialog_id = 0\n",
    "history =[]\n",
    "truncate_length = 4 \n",
    "add_event = True\n",
    "path ='data/KGdial/last/'\n",
    "\n",
    "last_event = []\n",
    "his = deque([])\n",
    "cnt = 0\n",
    "print('length',len(dialogs))\n",
    "with open(path + 'src-'+set_name+'.txt','w') as f_src:\n",
    "        with open(path +'tgt-'+set_name+'.txt','w') as f_tgt:\n",
    "            for utt in dialogs:\n",
    "                # First skip the persona\n",
    "                if utt['idx'] == -1:\n",
    "                    continue\n",
    "                if utt['dialog_id'] == dialog_id:\n",
    "                    if len(his)== 0:\n",
    "                        his.append(utt)  \n",
    "                        continue\n",
    "                    if add_event is True:\n",
    "                        event_list = ['xEffect', 'xIntent', 'xReact','xNeed', 'xWant']\n",
    "                        cur_events = [ '<{}> '.format(e)+his[-1][e] for e in event_list] \n",
    "                    if len(his) > truncate_length:\n",
    "                        his.popleft()\n",
    "                    src_sent = \" \".join([h['utterance'] for h in his])\n",
    "                    if add_event is True:\n",
    "                        src_sent += \" \"\n",
    "                        src_sent += \" \".join(cur_events)\n",
    "                    f_src.write(src_sent+'\\n')\n",
    "                    f_tgt.write(utt[\"utterance\"]+'\\n')\n",
    "                    his.append(utt)\n",
    "                    cnt +=1\n",
    "                else:\n",
    "                    his = deque([])\n",
    "                    dialog_id += 1\n",
    "                \n",
    "print(cnt)\n"
   ]
  },
  {
   "cell_type": "markdown",
   "metadata": {},
   "source": [
    "# Load from pkl file with current event"
   ]
  },
  {
   "cell_type": "code",
   "execution_count": 45,
   "metadata": {},
   "outputs": [
    {
     "name": "stdout",
     "output_type": "stream",
     "text": [
      "length 211803\n",
      "211803\n"
     ]
    }
   ],
   "source": [
    "import pickle\n",
    "from collections import deque\n",
    "set_name = 'train'\n",
    "dialogs = pickle.load( open( 'data/Persona-Chat/event/'+set_name+'_dict.pkl', \"rb\" ) )\n",
    "ialog_done = False\n",
    "dialog_id = 0\n",
    "history =[]\n",
    "truncate_length = 3 \n",
    "add_event = True\n",
    "path ='data/KGdial/'\n",
    "\n",
    "last_event = []\n",
    "his = deque([])\n",
    "cnt = 0\n",
    "print('length',len(dialogs))\n",
    "with open(path + 'src-'+set_name+'.txt','w') as f_src:\n",
    "        with open(path +'tgt-'+set_name+'.txt','w') as f_tgt:\n",
    "            for utt in dialogs:\n",
    "                # First skip the persona\n",
    "                cnt +=1\n",
    "                if utt['idx'] == -1:\n",
    "                    continue\n",
    "                if utt['dialog_id'] == dialog_id:\n",
    "                    if len(his)== 0:\n",
    "                        his.append(utt[\"utterance\"])  \n",
    "                        continue\n",
    "                    if add_event is True:\n",
    "                        event_list = ['xEffect', 'xIntent', 'xReact','xNeed', 'xWant']\n",
    "                        cur_events = [ '<{}> '.format(e)+utt[e] for e in event_list] \n",
    "                    if len(his) > truncate_length:\n",
    "                        his.popleft()\n",
    "                    src_sent = \" \".join(his)\n",
    "                    if add_event is True:\n",
    "                        src_sent += \" \"\n",
    "                        src_sent += \" \".join(cur_events)\n",
    "                    f_src.write(src_sent+'\\n')\n",
    "#                     assert utt[\"utterance\"] ==dialog2[cnt-1][\"utterance\"]\n",
    "                    f_tgt.write(utt[\"utterance\"]+'\\n')\n",
    "                    his.append(utt[\"utterance\"])\n",
    "                    \n",
    "                else:\n",
    "                    his = deque([])\n",
    "                    dialog_id += 1\n",
    "                \n",
    "                \n",
    "print(cnt)\n"
   ]
  },
  {
   "cell_type": "markdown",
   "metadata": {},
   "source": [
    "# Ablation Study"
   ]
  },
  {
   "cell_type": "code",
   "execution_count": 6,
   "metadata": {},
   "outputs": [
    {
     "name": "stdout",
     "output_type": "stream",
     "text": [
      "length 23737\n",
      "length 23737\n",
      "length 23737\n",
      "length 23737\n",
      "length 23737\n"
     ]
    }
   ],
   "source": [
    "import pickle\n",
    "from collections import deque\n",
    "import os\n",
    "set_name = 'test'\n",
    "dialogs = pickle.load( open( 'data/Persona-Chat/event/'+set_name+'_dict.pkl', \"rb\" ) )\n",
    "def gen(attr):\n",
    "    dialog_id = 0\n",
    "    history =[]\n",
    "    truncate_length = 3 \n",
    "    add_event = True\n",
    "    path ='data/KGdial/ablation_'+attr+'/'\n",
    "    if not os.path.exists(path):\n",
    "        os.makedirs(path)\n",
    "\n",
    "    last_event = []\n",
    "    his = deque([])\n",
    "    cnt = 0\n",
    "\n",
    "    print('length',len(dialogs))\n",
    "    with open(path + 'src-'+set_name+'.txt','w') as f_src:\n",
    "            with open(path +'tgt-'+set_name+'.txt','w') as f_tgt:\n",
    "\n",
    "                for utt in dialogs:\n",
    "                    # First skip the persona\n",
    "                    cnt +=1\n",
    "                    if utt['idx'] == -1:\n",
    "                        continue\n",
    "                    if utt['dialog_id'] == dialog_id:\n",
    "                        if len(his)== 0:\n",
    "                            his.append(utt[\"utterance\"])  \n",
    "                            continue\n",
    "                        if add_event is True:\n",
    "                            cur_events =  '<{}> '.format(attr)+utt[attr] \n",
    "                        if len(his) > truncate_length:\n",
    "                            his.popleft()\n",
    "                        src_sent = \" \".join(his)\n",
    "                        if add_event is True:\n",
    "                            src_sent += \" \"\n",
    "                            src_sent += cur_events\n",
    "                        f_src.write(src_sent+'\\n')\n",
    "    #                     assert utt[\"utterance\"] ==dialog2[cnt-1][\"utterance\"]\n",
    "                        f_tgt.write(utt[\"utterance\"]+'\\n')\n",
    "                        his.append(utt[\"utterance\"])\n",
    "\n",
    "                    else:\n",
    "                        his = deque([])\n",
    "                        dialog_id += 1\n",
    "                \n",
    "                \n",
    "event_list = ['xEffect', 'xIntent', 'xReact','xNeed', 'xWant']\n",
    "for e in event_list :\n",
    "    gen(e)"
   ]
  },
  {
   "cell_type": "code",
   "execution_count": null,
   "metadata": {},
   "outputs": [],
   "source": [
    "import pickle\n",
    "from collections import deque\n",
    "set_name = 'train'\n",
    "dialogs = pickle.load( open( 'data/Persona-Chat/event/'+set_name+'_dict.pkl', \"rb\" ) )\n",
    "ialog_done = False\n",
    "dialog_id = 0\n",
    "history =[]\n",
    "truncate_length = 3 \n",
    "add_event = True\n",
    "path ='data/KGdial/'\n",
    "\n",
    "last_event = []\n",
    "his = deque([])\n",
    "cnt = 0\n",
    "print('length',len(dialogs))\n",
    "with open(path + 'src-'+set_name+'.txt','w') as f_src:\n",
    "        with open(path +'tgt-'+set_name+'.txt','w') as f_tgt:\n",
    "            for utt in dialogs:\n",
    "                # First skip the persona\n",
    "                cnt +=1\n",
    "                if utt['idx'] == -1:\n",
    "                    continue\n",
    "                if utt['dialog_id'] == dialog_id:\n",
    "                    if len(his)== 0:\n",
    "                        his.append(utt[\"utterance\"])  \n",
    "                        continue\n",
    "                    if add_event is True:\n",
    "                        event_list = ['xEffect', 'xIntent', 'xReact','xNeed', 'xWant']\n",
    "                        cur_events = [ '<{}> '.format(e)+utt[e] for e in event_list] \n",
    "                    if len(his) > truncate_length:\n",
    "                        his.popleft()\n",
    "                    src_sent = \" \".join(his)\n",
    "                    if add_event is True:\n",
    "                        src_sent += \" \"\n",
    "                        src_sent += \" \".join(cur_events)\n",
    "                    f_src.write(src_sent+'\\n')\n",
    "#                     assert utt[\"utterance\"] ==dialog2[cnt-1][\"utterance\"]\n",
    "                    f_tgt.write(utt[\"utterance\"]+'\\n')\n",
    "                    his.append(utt[\"utterance\"])\n",
    "                    \n",
    "                else:\n",
    "                    his = deque([])\n",
    "                    dialog_id += 1\n",
    "                \n",
    "                \n",
    "print(cnt)\n"
   ]
  },
  {
   "cell_type": "markdown",
   "metadata": {},
   "source": [
    "## Load from raw data without event file"
   ]
  },
  {
   "cell_type": "code",
   "execution_count": 14,
   "metadata": {},
   "outputs": [
    {
     "name": "stderr",
     "output_type": "stream",
     "text": [
      "\r",
      "  0%|          | 0/146084 [00:00<?, ?it/s]\r",
      " 13%|█▎        | 19104/146084 [00:00<00:00, 191034.26it/s]\r",
      " 35%|███▍      | 50608/146084 [00:00<00:00, 216612.69it/s]\r",
      " 48%|████▊     | 70621/146084 [00:00<00:00, 211386.55it/s]\r",
      " 59%|█████▉    | 86049/146084 [00:00<00:00, 173268.30it/s]\r",
      " 69%|██████▉   | 101168/146084 [00:00<00:00, 165995.96it/s]\r",
      " 79%|███████▉  | 115825/146084 [00:00<00:00, 157937.15it/s]\r",
      " 89%|████████▉ | 130341/146084 [00:00<00:00, 148606.08it/s]\r",
      " 99%|█████████▉| 145337/146084 [00:00<00:00, 149006.87it/s]\r",
      "100%|██████████| 146084/146084 [00:00<00:00, 172879.35it/s]\n"
     ]
    }
   ],
   "source": [
    "import pickle\n",
    "from tqdm import tqdm\n",
    "from collections import deque\n",
    "dialogs = pickle.load( open( \"data/Persona-Chat/event/test_dict.pkl\", \"rb\" ) )\n",
    "ialog_done = False\n",
    "dialog_id = 0\n",
    "history =[]\n",
    "truncate_length = 3 \n",
    "add_event = False\n",
    "set_name = 'train'\n",
    "path ='data/Persona-Chat/personachat/'\n",
    "out_path = 'data/BaseSeq2seq/'\n",
    "file_name = '{}_both_original.txt'.format(set_name)\n",
    "last_event = []\n",
    "his = deque([])\n",
    "def gen_dict(sent,sent_id,dialog_id):\n",
    "    res = {}\n",
    "    res['utterance'] = sent\n",
    "    res['idx'] = sent_id\n",
    "    res['dialog_id'] = dialog_id \n",
    "    return res\n",
    "with open(path+file_name,'r') as f:\n",
    "    idxs = []\n",
    "    sents = []\n",
    "    dialog_id = -1\n",
    "    index = 0\n",
    "    lines = f.readlines()\n",
    "    persona=[]\n",
    "    dialogs = []\n",
    "    for l in tqdm(lines):\n",
    "        l = l.strip()\n",
    "        res = l.split('\\t')[:2]\n",
    "        if len(res)==1:\n",
    "            persona = res[0].split(\" \", 1)[1]\n",
    "            dict_persona= {}\n",
    "            dict_persona['utterance'] = persona\n",
    "            if res[0].split(\" \", 1)[0] == '1':\n",
    "                dialog_id += 1\n",
    "                index = -1\n",
    "            dict_persona[\"dialog_id\"] = dialog_id\n",
    "            dict_persona[\"idx\"] = index\n",
    "            dialogs.append(dict_persona)\n",
    "\n",
    "        else:\n",
    "            index +=1\n",
    "            self1,other_sent = res\n",
    "            idx, self_sent = self1.split(\" \", 1)\n",
    "            idxs.append(idx)\n",
    "            \n",
    "            dict1 = gen_dict(self_sent,index,dialog_id)\n",
    "            dict2 = gen_dict(other_sent,index,dialog_id)\n",
    "            dialogs.append(dict1)\n",
    "            dialogs.append(dict2)\n",
    "cnt = 0\n",
    "dialog_id = 0\n",
    "with open(out_path + 'src-'+set_name+'.txt','w') as f_src:\n",
    "        with open(out_path +'tgt-'+set_name+'.txt','w') as f_tgt:\n",
    "                for utt in dialogs:\n",
    "                    cnt += 1\n",
    "                    # First skip the persona\n",
    "                    if utt['idx'] == -1:\n",
    "                        continue\n",
    "                    if utt['dialog_id'] == dialog_id:\n",
    "                        if len(his)== 0:\n",
    "                            his.append(utt[\"utterance\"])  \n",
    "                            continue\n",
    "                        if add_event is True:\n",
    "                            event_list = ['xEffect', 'xIntent', 'xReact','xNeed', 'xWant']\n",
    "                            cur_events = [ '<{}> '.format(e)+utt[e] for e in event_list] \n",
    "                        if len(his) > truncate_length:\n",
    "                            his.popleft()\n",
    "                        src_sent = \" \".join(his)\n",
    "                        if add_event is True:\n",
    "                            src_sent += \" \"\n",
    "                            src_sent += \" \".join(cur_events)\n",
    "                        if cnt == len(dialogs):\n",
    "                            f_tgt.write(utt[\"utterance\"])\n",
    "                            f_src.write(src_sent)\n",
    "                            print('hit')\n",
    "                        else:\n",
    "                            f_src.write(src_sent+'\\n')                            \n",
    "                            f_tgt.write(utt[\"utterance\"]+'\\n')\n",
    "                            \n",
    "                        \n",
    "                        his.append(utt[\"utterance\"])\n",
    "                    else:\n",
    "                        his = deque([])\n",
    "                        dialog_id += 1\n",
    "                    "
   ]
  },
  {
   "cell_type": "markdown",
   "metadata": {},
   "source": [
    "## Load from raw data , last intention to predict the next intention"
   ]
  },
  {
   "cell_type": "code",
   "execution_count": 58,
   "metadata": {},
   "outputs": [
    {
     "name": "stdout",
     "output_type": "stream",
     "text": [
      "length 23737\n",
      "23737\n"
     ]
    }
   ],
   "source": [
    "import pickle\n",
    "from collections import deque\n",
    "set_name = 'test'\n",
    "dialogs = pickle.load( open( 'data/Persona-Chat/event/'+set_name+'_dict.pkl', \"rb\" ) )\n",
    "ialog_done = False\n",
    "dialog_id = 0\n",
    "history =[]\n",
    "truncate_length = 3 \n",
    "add_event = True\n",
    "path ='data/KGdial/event_prediction/'\n",
    "\n",
    "last_event = []\n",
    "his = deque([])\n",
    "cnt = 0\n",
    "print('length',len(dialogs))\n",
    "with open(path + 'src-'+set_name+'.txt','w') as f_src:\n",
    "        with open(path +'tgt-'+set_name+'.txt','w') as f_tgt:\n",
    "            for utt in dialogs:\n",
    "                # First skip the persona\n",
    "                cnt +=1\n",
    "                if utt['idx'] == -1:\n",
    "                    continue\n",
    "                if utt['dialog_id'] == dialog_id:\n",
    "                    if len(his)== 0:\n",
    "                        his.append(utt[\"utterance\"]) \n",
    "                        event_list = ['xEffect', 'xIntent', 'xReact','xNeed', 'xWant']\n",
    "                        last_events = [ '<{}> '.format(e)+utt[e] for e in event_list] \n",
    "                        continue\n",
    "                    event_list = ['xEffect', 'xIntent', 'xReact','xNeed', 'xWant']\n",
    "                    cur_events = [ '<{}> '.format(e)+utt[e] for e in event_list] \n",
    "                    if len(his) > truncate_length:\n",
    "                        his.popleft()\n",
    "                    src_sent = \" \".join(his)\n",
    "                    src_sent += \" \"\n",
    "                    src_sent += \" \".join(last_events)\n",
    "                    f_src.write(src_sent+'\\n')\n",
    "                    event_list = ['xEffect', 'xIntent', 'xReact','xNeed', 'xWant']\n",
    "                    cur_events = [ '<{}> '.format(e)+utt[e] for e in event_list] \n",
    "                    f_tgt.write(\" \".join(cur_events)+'\\n')\n",
    "                    his.append(utt[\"utterance\"])\n",
    "                    last_events = cur_events\n",
    "                    \n",
    "                else:\n",
    "                    his = deque([])\n",
    "                    dialog_id += 1\n",
    "                \n",
    "                \n",
    "print(cnt)\n"
   ]
  }
 ],
 "metadata": {
  "kernelspec": {
   "display_name": "project",
   "language": "python",
   "name": "project"
  },
  "language_info": {
   "codemirror_mode": {
    "name": "ipython",
    "version": 3
   },
   "file_extension": ".py",
   "mimetype": "text/x-python",
   "name": "python",
   "nbconvert_exporter": "python",
   "pygments_lexer": "ipython3",
   "version": "3.6.10"
  }
 },
 "nbformat": 4,
 "nbformat_minor": 2
}
